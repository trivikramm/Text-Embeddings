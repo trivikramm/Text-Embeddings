{
  "nbformat": 4,
  "nbformat_minor": 0,
  "metadata": {
    "colab": {
      "provenance": []
    },
    "kernelspec": {
      "name": "python3",
      "display_name": "Python 3"
    },
    "language_info": {
      "name": "python"
    }
  },
  "cells": [
    {
      "cell_type": "code",
      "source": [
        "!pip install google-cloud-aiplatform"
      ],
      "metadata": {
        "colab": {
          "base_uri": "https://localhost:8080/"
        },
        "id": "UOsgxgDXw0Tf",
        "outputId": "f40c946d-d6a3-42de-e289-6c6287a1cdd8"
      },
      "execution_count": 35,
      "outputs": [
        {
          "output_type": "stream",
          "name": "stdout",
          "text": [
            "Requirement already satisfied: google-cloud-aiplatform in /usr/local/lib/python3.10/dist-packages (1.32.0)\n",
            "Requirement already satisfied: google-api-core[grpc]!=2.0.*,!=2.1.*,!=2.2.*,!=2.3.*,!=2.4.*,!=2.5.*,!=2.6.*,!=2.7.*,<3.0.0dev,>=1.32.0 in /usr/local/lib/python3.10/dist-packages (from google-cloud-aiplatform) (2.11.1)\n",
            "Requirement already satisfied: proto-plus<2.0.0dev,>=1.22.0 in /usr/local/lib/python3.10/dist-packages (from google-cloud-aiplatform) (1.22.3)\n",
            "Requirement already satisfied: protobuf!=3.20.0,!=3.20.1,!=4.21.0,!=4.21.1,!=4.21.2,!=4.21.3,!=4.21.4,!=4.21.5,<5.0.0dev,>=3.19.5 in /usr/local/lib/python3.10/dist-packages (from google-cloud-aiplatform) (3.20.3)\n",
            "Requirement already satisfied: packaging>=14.3 in /usr/local/lib/python3.10/dist-packages (from google-cloud-aiplatform) (23.1)\n",
            "Requirement already satisfied: google-cloud-storage<3.0.0dev,>=1.32.0 in /usr/local/lib/python3.10/dist-packages (from google-cloud-aiplatform) (2.8.0)\n",
            "Requirement already satisfied: google-cloud-bigquery<4.0.0dev,>=1.15.0 in /usr/local/lib/python3.10/dist-packages (from google-cloud-aiplatform) (3.10.0)\n",
            "Requirement already satisfied: google-cloud-resource-manager<3.0.0dev,>=1.3.3 in /usr/local/lib/python3.10/dist-packages (from google-cloud-aiplatform) (1.10.3)\n",
            "Requirement already satisfied: shapely<2.0.0 in /usr/local/lib/python3.10/dist-packages (from google-cloud-aiplatform) (1.8.5.post1)\n",
            "Requirement already satisfied: googleapis-common-protos<2.0.dev0,>=1.56.2 in /usr/local/lib/python3.10/dist-packages (from google-api-core[grpc]!=2.0.*,!=2.1.*,!=2.2.*,!=2.3.*,!=2.4.*,!=2.5.*,!=2.6.*,!=2.7.*,<3.0.0dev,>=1.32.0->google-cloud-aiplatform) (1.60.0)\n",
            "Requirement already satisfied: google-auth<3.0.dev0,>=2.14.1 in /usr/local/lib/python3.10/dist-packages (from google-api-core[grpc]!=2.0.*,!=2.1.*,!=2.2.*,!=2.3.*,!=2.4.*,!=2.5.*,!=2.6.*,!=2.7.*,<3.0.0dev,>=1.32.0->google-cloud-aiplatform) (2.17.3)\n",
            "Requirement already satisfied: requests<3.0.0.dev0,>=2.18.0 in /usr/local/lib/python3.10/dist-packages (from google-api-core[grpc]!=2.0.*,!=2.1.*,!=2.2.*,!=2.3.*,!=2.4.*,!=2.5.*,!=2.6.*,!=2.7.*,<3.0.0dev,>=1.32.0->google-cloud-aiplatform) (2.31.0)\n",
            "Requirement already satisfied: grpcio<2.0dev,>=1.33.2 in /usr/local/lib/python3.10/dist-packages (from google-api-core[grpc]!=2.0.*,!=2.1.*,!=2.2.*,!=2.3.*,!=2.4.*,!=2.5.*,!=2.6.*,!=2.7.*,<3.0.0dev,>=1.32.0->google-cloud-aiplatform) (1.57.0)\n",
            "Requirement already satisfied: grpcio-status<2.0.dev0,>=1.33.2 in /usr/local/lib/python3.10/dist-packages (from google-api-core[grpc]!=2.0.*,!=2.1.*,!=2.2.*,!=2.3.*,!=2.4.*,!=2.5.*,!=2.6.*,!=2.7.*,<3.0.0dev,>=1.32.0->google-cloud-aiplatform) (1.48.2)\n",
            "Requirement already satisfied: google-cloud-core<3.0.0dev,>=1.6.0 in /usr/local/lib/python3.10/dist-packages (from google-cloud-bigquery<4.0.0dev,>=1.15.0->google-cloud-aiplatform) (2.3.3)\n",
            "Requirement already satisfied: google-resumable-media<3.0dev,>=0.6.0 in /usr/local/lib/python3.10/dist-packages (from google-cloud-bigquery<4.0.0dev,>=1.15.0->google-cloud-aiplatform) (2.6.0)\n",
            "Requirement already satisfied: python-dateutil<3.0dev,>=2.7.2 in /usr/local/lib/python3.10/dist-packages (from google-cloud-bigquery<4.0.0dev,>=1.15.0->google-cloud-aiplatform) (2.8.2)\n",
            "Requirement already satisfied: grpc-google-iam-v1<1.0.0dev,>=0.12.4 in /usr/local/lib/python3.10/dist-packages (from google-cloud-resource-manager<3.0.0dev,>=1.3.3->google-cloud-aiplatform) (0.12.6)\n",
            "Requirement already satisfied: cachetools<6.0,>=2.0.0 in /usr/local/lib/python3.10/dist-packages (from google-auth<3.0.dev0,>=2.14.1->google-api-core[grpc]!=2.0.*,!=2.1.*,!=2.2.*,!=2.3.*,!=2.4.*,!=2.5.*,!=2.6.*,!=2.7.*,<3.0.0dev,>=1.32.0->google-cloud-aiplatform) (5.3.1)\n",
            "Requirement already satisfied: pyasn1-modules>=0.2.1 in /usr/local/lib/python3.10/dist-packages (from google-auth<3.0.dev0,>=2.14.1->google-api-core[grpc]!=2.0.*,!=2.1.*,!=2.2.*,!=2.3.*,!=2.4.*,!=2.5.*,!=2.6.*,!=2.7.*,<3.0.0dev,>=1.32.0->google-cloud-aiplatform) (0.3.0)\n",
            "Requirement already satisfied: six>=1.9.0 in /usr/local/lib/python3.10/dist-packages (from google-auth<3.0.dev0,>=2.14.1->google-api-core[grpc]!=2.0.*,!=2.1.*,!=2.2.*,!=2.3.*,!=2.4.*,!=2.5.*,!=2.6.*,!=2.7.*,<3.0.0dev,>=1.32.0->google-cloud-aiplatform) (1.16.0)\n",
            "Requirement already satisfied: rsa<5,>=3.1.4 in /usr/local/lib/python3.10/dist-packages (from google-auth<3.0.dev0,>=2.14.1->google-api-core[grpc]!=2.0.*,!=2.1.*,!=2.2.*,!=2.3.*,!=2.4.*,!=2.5.*,!=2.6.*,!=2.7.*,<3.0.0dev,>=1.32.0->google-cloud-aiplatform) (4.9)\n",
            "Requirement already satisfied: google-crc32c<2.0dev,>=1.0 in /usr/local/lib/python3.10/dist-packages (from google-resumable-media<3.0dev,>=0.6.0->google-cloud-bigquery<4.0.0dev,>=1.15.0->google-cloud-aiplatform) (1.5.0)\n",
            "Requirement already satisfied: charset-normalizer<4,>=2 in /usr/local/lib/python3.10/dist-packages (from requests<3.0.0.dev0,>=2.18.0->google-api-core[grpc]!=2.0.*,!=2.1.*,!=2.2.*,!=2.3.*,!=2.4.*,!=2.5.*,!=2.6.*,!=2.7.*,<3.0.0dev,>=1.32.0->google-cloud-aiplatform) (3.2.0)\n",
            "Requirement already satisfied: idna<4,>=2.5 in /usr/local/lib/python3.10/dist-packages (from requests<3.0.0.dev0,>=2.18.0->google-api-core[grpc]!=2.0.*,!=2.1.*,!=2.2.*,!=2.3.*,!=2.4.*,!=2.5.*,!=2.6.*,!=2.7.*,<3.0.0dev,>=1.32.0->google-cloud-aiplatform) (3.4)\n",
            "Requirement already satisfied: urllib3<3,>=1.21.1 in /usr/local/lib/python3.10/dist-packages (from requests<3.0.0.dev0,>=2.18.0->google-api-core[grpc]!=2.0.*,!=2.1.*,!=2.2.*,!=2.3.*,!=2.4.*,!=2.5.*,!=2.6.*,!=2.7.*,<3.0.0dev,>=1.32.0->google-cloud-aiplatform) (2.0.4)\n",
            "Requirement already satisfied: certifi>=2017.4.17 in /usr/local/lib/python3.10/dist-packages (from requests<3.0.0.dev0,>=2.18.0->google-api-core[grpc]!=2.0.*,!=2.1.*,!=2.2.*,!=2.3.*,!=2.4.*,!=2.5.*,!=2.6.*,!=2.7.*,<3.0.0dev,>=1.32.0->google-cloud-aiplatform) (2023.7.22)\n",
            "Requirement already satisfied: pyasn1<0.6.0,>=0.4.6 in /usr/local/lib/python3.10/dist-packages (from pyasn1-modules>=0.2.1->google-auth<3.0.dev0,>=2.14.1->google-api-core[grpc]!=2.0.*,!=2.1.*,!=2.2.*,!=2.3.*,!=2.4.*,!=2.5.*,!=2.6.*,!=2.7.*,<3.0.0dev,>=1.32.0->google-cloud-aiplatform) (0.5.0)\n"
          ]
        }
      ]
    },
    {
      "cell_type": "code",
      "source": [
        "import os\n",
        "import google.auth\n",
        "\n",
        "# Get the path to the JSON key file.\n",
        "key_file_path = \"/content/text-embed-1066a5492bd6.json\"\n",
        "\n",
        "# Get the Google Cloud Platform credentials.\n",
        "credentials, project_id = google.auth.load_credentials_from_file(key_file_path)\n",
        "\n",
        "# Print the credentials and project ID.\n",
        "print(\"Credentials:\", credentials)\n",
        "print(\"Project ID:\", project_id)"
      ],
      "metadata": {
        "colab": {
          "base_uri": "https://localhost:8080/"
        },
        "id": "OaD3GSoHyGBU",
        "outputId": "7f5ec2d5-2998-47d6-8715-336e0ac47c86"
      },
      "execution_count": 36,
      "outputs": [
        {
          "output_type": "stream",
          "name": "stdout",
          "text": [
            "Credentials: <google.oauth2.service_account.Credentials object at 0x7a78a85d8a00>\n",
            "Project ID: text-embed\n"
          ]
        }
      ]
    },
    {
      "cell_type": "code",
      "source": [
        "region = \"us-central1\""
      ],
      "metadata": {
        "id": "UljOz1xbwNg2"
      },
      "execution_count": 37,
      "outputs": []
    },
    {
      "cell_type": "code",
      "source": [
        "import vertexai"
      ],
      "metadata": {
        "id": "5i6ABEWWwakK"
      },
      "execution_count": 38,
      "outputs": []
    },
    {
      "cell_type": "code",
      "source": [
        "vertexai.init(project = project_id,\n",
        "              location = region,\n",
        "              credentials = credentials)"
      ],
      "metadata": {
        "id": "coTWD4ohwdtm"
      },
      "execution_count": 39,
      "outputs": []
    },
    {
      "cell_type": "code",
      "source": [
        "from vertexai.language_models import TextGenerationModel"
      ],
      "metadata": {
        "id": "LEs2Rc6cwmBt"
      },
      "execution_count": 40,
      "outputs": []
    },
    {
      "cell_type": "code",
      "source": [
        "model = TextGenerationModel.from_pretrained('text-bison@001')"
      ],
      "metadata": {
        "id": "vXSS_FG9xu23"
      },
      "execution_count": 41,
      "outputs": []
    },
    {
      "cell_type": "code",
      "source": [
        "prompt = \"\"\"\n",
        "Follow up a coversation between seller and shopkeeper \\\n",
        "Seller wants to buy some products \\\n",
        "rice, milk, sugar, salt, baking soda. \\\n",
        "seller bought two rice packets, one milk packet, one sugar packet, three salt packet, one baking soda. \\\n",
        "Each product in the store costs below \\\n",
        "rice - 2000 \\\n",
        "milk - 50 \\\n",
        "sugar - 150 \\\n",
        "salt - 100 \\\n",
        "baking soda - 40 \\\n",
        "calculate the price and find the total cost, \\\n",
        "and generate bill for total products that are bought by the customer. \\\n",
        "\"\"\""
      ],
      "metadata": {
        "id": "IhmESYu5x8Il"
      },
      "execution_count": 42,
      "outputs": []
    },
    {
      "cell_type": "code",
      "source": [
        "output = (model.predict(prompt=prompt).text)"
      ],
      "metadata": {
        "id": "rzGVsxNCybIo"
      },
      "execution_count": 43,
      "outputs": []
    },
    {
      "cell_type": "code",
      "source": [
        "print(output)"
      ],
      "metadata": {
        "colab": {
          "base_uri": "https://localhost:8080/"
        },
        "id": "M63YhH1m0k1i",
        "outputId": "dd60bbab-90d3-4697-c6af-5d3b3c5357f6"
      },
      "execution_count": 44,
      "outputs": [
        {
          "output_type": "stream",
          "name": "stdout",
          "text": [
            "2 rice packets cost 2 * 2000 = 4000\n",
            "1 milk packet costs 50\n",
            "1 sugar packet costs 150\n",
            "3 salt packets cost 3 * 100 = 300\n",
            "1 baking soda costs 40\n",
            "So, the total cost of all the products is 4000 + 50 + 150 + 300 + 40 = 4540.\n",
            "Here is your bill:\n",
            "\n",
            "Product Name | Quantity | Price | Total\n",
            "------------- | -------- | -------- | --------\n",
            "Rice |\n"
          ]
        }
      ]
    },
    {
      "cell_type": "code",
      "source": [
        "prompt = \"\"\"\n",
        "Follow up a conversation between old school friends, when they met in masters program. \\\n",
        "Imagine two friends named Anna and Vikram. \\\n",
        "Step-1 : \\\n",
        "Step-2 : \\\n",
        "...\n",
        "Step-n : \\\n",
        "\"\"\""
      ],
      "metadata": {
        "id": "m_UQrqqw0oTy"
      },
      "execution_count": 45,
      "outputs": []
    },
    {
      "cell_type": "code",
      "source": [
        "print(model.predict(prompt=prompt).text)"
      ],
      "metadata": {
        "colab": {
          "base_uri": "https://localhost:8080/"
        },
        "id": "IxJ-yg8m1V8i",
        "outputId": "17ec1b66-d814-4c02-dc92-54a0702cb48d"
      },
      "execution_count": 46,
      "outputs": [
        {
          "output_type": "stream",
          "name": "stdout",
          "text": [
            "Anna: Hey Vikram! It's been so long!\n",
            "Vikram: I know right! It's great to see you again.\n",
            "Anna: How have you been?\n",
            "Vikram: I've been good. I'm in the masters program in computer science here.\n",
            "Anna: That's great! I'm in the masters program in business administration here.\n",
            "Vikram: That's awesome! What are you planning to do after you graduate?\n",
            "Anna: I'm not sure yet. I'm thinking about going into consulting.\n",
            "Vikram: That sounds like a great idea.\n"
          ]
        }
      ]
    },
    {
      "cell_type": "code",
      "source": [
        "prompt = \"\"\"\n",
        "Write a program to find the factiorial of a number. \\\n",
        "\"\"\""
      ],
      "metadata": {
        "id": "1EShuAHa1cQT"
      },
      "execution_count": 47,
      "outputs": []
    },
    {
      "cell_type": "code",
      "source": [
        "print(model.predict(prompt=prompt).text)"
      ],
      "metadata": {
        "colab": {
          "base_uri": "https://localhost:8080/"
        },
        "id": "melOpalL2AGL",
        "outputId": "a41efb8b-6543-4b95-c489-adf92101b68c"
      },
      "execution_count": 48,
      "outputs": [
        {
          "output_type": "stream",
          "name": "stdout",
          "text": [
            "```python\n",
            "def factorial(n):\r\n",
            "    if n == 0:\r\n",
            "        return 1\r\n",
            "    else:\r\n",
            "        return n * factorial(n - 1)\n",
            "\n",
            "n = int(input(\"Enter a number: \"))\r\n",
            "print(\"The factorial of\", n, \"is\", factorial(n))\n",
            "```\n"
          ]
        }
      ]
    },
    {
      "cell_type": "code",
      "source": [
        "prompt = \"\"\"\n",
        "Have you know about how brain works in humans. \\\n",
        "generate a summary. \\\n",
        "\"\"\""
      ],
      "metadata": {
        "id": "6eooCK362Et5"
      },
      "execution_count": 57,
      "outputs": []
    },
    {
      "cell_type": "code",
      "source": [
        "print(model.predict(prompt=prompt,\n",
        "                    temperature=0.0))"
      ],
      "metadata": {
        "colab": {
          "base_uri": "https://localhost:8080/"
        },
        "id": "b12zSat_3AFo",
        "outputId": "eb8f6f90-8226-43a1-ad87-f5a5e7822580"
      },
      "execution_count": 58,
      "outputs": [
        {
          "output_type": "stream",
          "name": "stdout",
          "text": [
            "The human brain is a complex organ that controls everything from our thoughts and emotions to our movements and bodily functions. It is made up of billions of neurons, which are cells that communicate with each other through electrical and chemical signals.\n",
            "\n",
            "The brain is divided into two hemispheres, the left and right hemispheres. The left hemisphere is responsible for language, logic, and analytical thinking, while the right hemisphere is responsible for creativity, intuition, and spatial reasoning.\n",
            "\n",
            "The brain is also divided into four lobes: the frontal lobe, the parietal lobe, the temporal lobe, and the occipital lobe. The frontal lobe is responsible for planning,\n"
          ]
        }
      ]
    },
    {
      "cell_type": "code",
      "source": [
        "print(model.predict(prompt=prompt,\n",
        "                    temperature=1.0))"
      ],
      "metadata": {
        "colab": {
          "base_uri": "https://localhost:8080/"
        },
        "id": "1pHI1XQS3K88",
        "outputId": "b927947c-44d5-49e5-bb60-b65be41d1650"
      },
      "execution_count": 59,
      "outputs": [
        {
          "output_type": "stream",
          "name": "stdout",
          "text": [
            "The human brain is a complex organ that controls everything from our thoughts and emotions to our movements and bodily functions. It is made up of billions of neurons, which are connected to each other by trillions of synapses. These neurons communicate with each other by sending electrical signals and chemical messengers.\n",
            "\n",
            "The brain is divided into four main lobes: the frontal lobe, parietal lobe, temporal lobe, and occipital lobe. Each lobe is responsible for different functions. For example, the frontal lobe is involved in planning, decision-making, and problem-solving. The parietal lobe is responsible for processing sensory information, such as touch, taste, and vision.\n"
          ]
        }
      ]
    },
    {
      "cell_type": "code",
      "source": [
        "prompt = \"\"\"\n",
        "Connect a backend database to the frontend application of an user created in google cloud. \\\n",
        "He wants to store information like user visited time and data, name, address, email, phone number, age and so on. \\\n",
        "He is so confused to select what kind of database is required for his need. \\\n",
        "Can you help him? \\\n",
        "\"\"\""
      ],
      "metadata": {
        "id": "-LdyxMpz3qU-"
      },
      "execution_count": 60,
      "outputs": []
    },
    {
      "cell_type": "code",
      "source": [
        "print(model.predict(prompt=prompt,\n",
        "                    temperature=0.0))"
      ],
      "metadata": {
        "colab": {
          "base_uri": "https://localhost:8080/"
        },
        "id": "CXbN1klm5yAc",
        "outputId": "dc5d0653-112a-49e4-bed1-e56374f9a982"
      },
      "execution_count": 61,
      "outputs": [
        {
          "output_type": "stream",
          "name": "stdout",
          "text": [
            "Sure, I can help you with that. There are a few different types of databases that you could use for this application, but the best option for you will depend on your specific needs and requirements.\n",
            "\n",
            "One option is to use a relational database, such as MySQL or PostgreSQL. Relational databases are good for storing structured data, such as the information you listed above. They are also relatively easy to use and manage.\n",
            "\n",
            "Another option is to use a NoSQL database, such as MongoDB or Cassandra. NoSQL databases are good for storing unstructured data, such as text documents or images. They are also more scalable than relational databases\n"
          ]
        }
      ]
    },
    {
      "cell_type": "code",
      "source": [],
      "metadata": {
        "id": "WbVMv85t5zer"
      },
      "execution_count": null,
      "outputs": []
    }
  ]
}